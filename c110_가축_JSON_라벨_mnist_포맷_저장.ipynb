{
 "cells": [
  {
   "cell_type": "code",
   "execution_count": 2,
   "metadata": {},
   "outputs": [
    {
     "name": "stdout",
     "output_type": "stream",
     "text": [
      "Saving label file of mnist format..... [./ModelData/LiveStock/Training/mnist_COW.txt] \n"
     ]
    },
    {
     "name": "stderr",
     "output_type": "stream",
     "text": [
      "100%|██████████| 12153/12153 [00:05<00:00, 2335.55it/s]"
     ]
    },
    {
     "name": "stdout",
     "output_type": "stream",
     "text": [
      "Done.\n"
     ]
    },
    {
     "name": "stderr",
     "output_type": "stream",
     "text": [
      "\n"
     ]
    }
   ],
   "source": [
    "import os, json, cv2, cv2 as cv\n",
    "from tqdm import tqdm, trange\n",
    "from os import walk\n",
    "import matplotlib.pyplot as plt \n",
    "from PIL import Image\n",
    "from b201_create_label_image import *\n",
    "\n",
    "# JSON 포맷의 라벨링 파일을 MNIST 포맷의 라벨링 파일로 변환함 \n",
    "modes = [ \"Training\"  ]\n",
    "liveStocks = [ \"COW\" ]\n",
    "\n",
    "for mode in modes : \n",
    "    for liveStock in liveStocks :\n",
    "        label_folder = f\"./ModelData/LiveStock/{mode}/[LABEL]{liveStock}_bbox/\"\n",
    "        image_folder = f\"./ModelData/LiveStock/{mode}/[IMAGE]{liveStock}_bbox/\" \n",
    "\n",
    "        mnist_label_file_path = f\"./ModelData/LiveStock/{mode}/mnist_{liveStock}.txt\" \n",
    "\n",
    "        print( f\"Saving label file of mnist format..... [{mnist_label_file_path}] \")\n",
    "\n",
    "        save_file = open( mnist_label_file_path, 'w')\n",
    "\n",
    "        json_file_paths = []\n",
    "        for dirpath, dirs, files in walk( label_folder ): \n",
    "            for f in files : \n",
    "                json_file_paths.append( dirpath + f )\n",
    "            pass\n",
    "        pass\n",
    "\n",
    "        for json_file_path in tqdm( json_file_paths ): \n",
    "            # C:\\Github\\YOLOv3\\mnist\\mnist_test\\000001.jpg 290,170,304,184,2 269,277,291,299,6 308,174,336,202,0 290,373,332,415,3\n",
    "\n",
    "            try : \n",
    "                json_data = json.load( open( json_file_path, 'r') )\n",
    "\n",
    "                label_info = json_data['label_info']\n",
    "\n",
    "                image_file_name = label_info['image']['file_name'] # 이미지 파일명\n",
    "\n",
    "                image_path = image_folder + image_file_name \n",
    "\n",
    "                line = image_path\n",
    "\n",
    "                klass = 1 # 모두 가축으로 인식\n",
    "                for idx, anno in enumerate( label_info['annotations'] ):\n",
    "                    box = anno['bbox'] # 객체 1개의 bbox 위치 좌표\n",
    "                    line += f\" {box[0]}, {box[1]}, {box[2]}, {box[3]}, {klass}\"\n",
    "                pass\n",
    "\n",
    "                #print( line , flush=True )\n",
    "                \n",
    "                save_file.write( line + \"\\n\" )\n",
    "            except: \n",
    "                pass\n",
    "            pass\n",
    "        pass\n",
    "\n",
    "        save_file.close() \n",
    "    pass\n",
    "pass\n",
    "\n",
    "print( \"Done.\" )"
   ]
  }
 ],
 "metadata": {
  "interpreter": {
   "hash": "ac59ebe37160ed0dfa835113d9b8498d9f09ceb179beaac4002f036b9467c963"
  },
  "kernelspec": {
   "display_name": "Python 3.9.9 64-bit",
   "language": "python",
   "name": "python3"
  },
  "language_info": {
   "codemirror_mode": {
    "name": "ipython",
    "version": 3
   },
   "file_extension": ".py",
   "mimetype": "text/x-python",
   "name": "python",
   "nbconvert_exporter": "python",
   "pygments_lexer": "ipython3",
   "version": "3.9.9"
  },
  "orig_nbformat": 4
 },
 "nbformat": 4,
 "nbformat_minor": 2
}
