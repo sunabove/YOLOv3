{
 "cells": [
  {
   "cell_type": "code",
   "execution_count": 1,
   "metadata": {},
   "outputs": [
    {
     "name": "stdout",
     "output_type": "stream",
     "text": [
      "dirpath = ./ModelData/LiveStock/Training/[LABEL]COW_bbox/\n",
      "dirs = []\n"
     ]
    },
    {
     "name": "stderr",
     "output_type": "stream",
     "text": [
      "  8%|▊         | 919/12152 [02:55<35:42,  5.24it/s]  \n"
     ]
    },
    {
     "ename": "KeyboardInterrupt",
     "evalue": "",
     "output_type": "error",
     "traceback": [
      "\u001b[1;31m---------------------------------------------------------------------------\u001b[0m",
      "\u001b[1;31mKeyboardInterrupt\u001b[0m                         Traceback (most recent call last)",
      "Input \u001b[1;32mIn [1]\u001b[0m, in \u001b[0;36m<module>\u001b[1;34m\u001b[0m\n\u001b[0;32m     24\u001b[0m     \u001b[38;5;28;01mfor\u001b[39;00m json_file \u001b[38;5;129;01min\u001b[39;00m tqdm( files ) : \n\u001b[0;32m     25\u001b[0m         json_file_path \u001b[38;5;241m=\u001b[39m label_folder \u001b[38;5;241m+\u001b[39m json_file\n\u001b[1;32m---> 27\u001b[0m         image_path_label \u001b[38;5;241m=\u001b[39m \u001b[43mcreate_label_image\u001b[49m\u001b[43m(\u001b[49m\u001b[43m \u001b[49m\u001b[43mjson_file_path\u001b[49m\u001b[43m,\u001b[49m\u001b[43m \u001b[49m\u001b[43mimage_folder\u001b[49m\u001b[43m,\u001b[49m\u001b[43m \u001b[49m\u001b[43mimage_label_folder\u001b[49m\u001b[43m \u001b[49m\u001b[43m)\u001b[49m \n\u001b[0;32m     28\u001b[0m     \u001b[38;5;28;01mpass\u001b[39;00m\n\u001b[0;32m     29\u001b[0m \u001b[38;5;28;01mpass\u001b[39;00m\n",
      "File \u001b[1;32mc:\\Github\\YOLOv3\\b201_create_label_image.py:22\u001b[0m, in \u001b[0;36mcreate_label_image\u001b[1;34m(json_file_path, image_folder, image_label_folder, debug)\u001b[0m\n\u001b[0;32m     19\u001b[0m debug \u001b[38;5;129;01mand\u001b[39;00m \u001b[38;5;28mprint\u001b[39m( \u001b[38;5;124mf\u001b[39m\u001b[38;5;124m\"\u001b[39m\u001b[38;5;124mimage_path = \u001b[39m\u001b[38;5;132;01m{\u001b[39;00mimage_path\u001b[38;5;132;01m}\u001b[39;00m\u001b[38;5;124m\"\u001b[39m )\n\u001b[0;32m     20\u001b[0m debug \u001b[38;5;129;01mand\u001b[39;00m \u001b[38;5;28mprint\u001b[39m( \u001b[38;5;124mf\u001b[39m\u001b[38;5;124m\"\u001b[39m\u001b[38;5;124mimage_label_path = \u001b[39m\u001b[38;5;132;01m{\u001b[39;00mimage_label_path\u001b[38;5;132;01m}\u001b[39;00m\u001b[38;5;124m\"\u001b[39m )\n\u001b[1;32m---> 22\u001b[0m image \u001b[38;5;241m=\u001b[39m \u001b[43mcv2\u001b[49m\u001b[38;5;241;43m.\u001b[39;49m\u001b[43mimread\u001b[49m\u001b[43m(\u001b[49m\u001b[43m \u001b[49m\u001b[43mimage_path\u001b[49m\u001b[43m \u001b[49m\u001b[43m)\u001b[49m\n\u001b[0;32m     24\u001b[0m annotations \u001b[38;5;241m=\u001b[39m  label_info[\u001b[38;5;124m'\u001b[39m\u001b[38;5;124mannotations\u001b[39m\u001b[38;5;124m'\u001b[39m]\n\u001b[0;32m     25\u001b[0m \u001b[38;5;28;01mfor\u001b[39;00m annot \u001b[38;5;129;01min\u001b[39;00m annotations:\n",
      "\u001b[1;31mKeyboardInterrupt\u001b[0m: "
     ]
    }
   ],
   "source": [
    "import os, json, cv2, cv2 as cv\n",
    "from tqdm import tqdm\n",
    "import matplotlib.pyplot as plt \n",
    "from PIL import Image\n",
    "from b201_create_label_image import *\n",
    "\n",
    "liveStock = \"COW\" \n",
    "label_folder = f\"./ModelData/LiveStock/Training/[LABEL]{liveStock}_bbox/\"\n",
    "image_folder = f\"./ModelData/LiveStock/Training/[IMAGE]{liveStock}_bbox/\"\n",
    "image_label_folder = f\"./ModelData/LiveStock/Training/[IMAGE]{liveStock}_bbox_label/\"\n",
    "\n",
    "if not os.path.exists( image_label_folder ):\n",
    "    os.makedirs(image_label_folder)\n",
    "    print( f\"Folder crated. [{image_label_folder}]\" )\n",
    "pass\n",
    "\n",
    "\n",
    "from os import walk\n",
    "\n",
    "image_path_label = None \n",
    "for dirpath, dirs, files in walk( label_folder ):\n",
    "    print( f\"dirpath = {dirpath}\" )\n",
    "    print( f\"dirs = {dirs}\" ) \n",
    "    for json_file in tqdm( files ) : \n",
    "        json_file_path = label_folder + json_file\n",
    "\n",
    "        image_path_label = create_label_image( json_file_path, image_folder, image_label_folder ) \n",
    "    pass\n",
    "pass\n",
    "\n",
    "print( \"Done.\" )\n",
    "w = 20 ; h = w\n",
    "plt.rcParams[\"figure.figsize\"] = (w, h)\n",
    "plt.imshow( Image.open( image_path_label ) )\n",
    "plt.show()\n"
   ]
  }
 ],
 "metadata": {
  "interpreter": {
   "hash": "ac59ebe37160ed0dfa835113d9b8498d9f09ceb179beaac4002f036b9467c963"
  },
  "kernelspec": {
   "display_name": "Python 3.9.9 64-bit",
   "language": "python",
   "name": "python3"
  },
  "language_info": {
   "codemirror_mode": {
    "name": "ipython",
    "version": 3
   },
   "file_extension": ".py",
   "mimetype": "text/x-python",
   "name": "python",
   "nbconvert_exporter": "python",
   "pygments_lexer": "ipython3",
   "version": "3.9.9"
  },
  "orig_nbformat": 4
 },
 "nbformat": 4,
 "nbformat_minor": 2
}
