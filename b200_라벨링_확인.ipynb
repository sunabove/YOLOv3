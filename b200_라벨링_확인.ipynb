{
 "cells": [
  {
   "cell_type": "code",
   "execution_count": 6,
   "metadata": {},
   "outputs": [
    {
     "name": "stderr",
     "output_type": "stream",
     "text": [
      " 59%|█████▉    | 9770/16455 [01:03<00:43, 154.75it/s] \n"
     ]
    },
    {
     "ename": "KeyboardInterrupt",
     "evalue": "",
     "output_type": "error",
     "traceback": [
      "\u001b[1;31m---------------------------------------------------------------------------\u001b[0m",
      "\u001b[1;31mKeyboardInterrupt\u001b[0m                         Traceback (most recent call last)",
      "Input \u001b[1;32mIn [6]\u001b[0m, in \u001b[0;36m<module>\u001b[1;34m\u001b[0m\n\u001b[0;32m     30\u001b[0m \u001b[38;5;28;01mpass\u001b[39;00m\n\u001b[0;32m     32\u001b[0m \u001b[38;5;28;01mfor\u001b[39;00m json_file \u001b[38;5;129;01min\u001b[39;00m tqdm( label_files ) :\n\u001b[1;32m---> 33\u001b[0m     image_path_label \u001b[38;5;241m=\u001b[39m \u001b[43mcreate_label_image\u001b[49m\u001b[43m(\u001b[49m\u001b[43m \u001b[49m\u001b[43mjson_file\u001b[49m\u001b[43m,\u001b[49m\u001b[43m \u001b[49m\u001b[43mimage_folder\u001b[49m\u001b[43m,\u001b[49m\u001b[43m \u001b[49m\u001b[43mimage_label_folder\u001b[49m\u001b[43m \u001b[49m\u001b[43m)\u001b[49m\n\u001b[0;32m     34\u001b[0m \u001b[38;5;28;01mpass\u001b[39;00m\n\u001b[0;32m     36\u001b[0m w \u001b[38;5;241m=\u001b[39m \u001b[38;5;241m20\u001b[39m ; h \u001b[38;5;241m=\u001b[39m w\n",
      "File \u001b[1;32mc:\\Github\\YOLOv3\\b201_create_label_image.py:5\u001b[0m, in \u001b[0;36mcreate_label_image\u001b[1;34m(json_file_path, image_folder, image_label_folder, colors, debug)\u001b[0m\n\u001b[0;32m      3\u001b[0m \u001b[38;5;28;01mdef\u001b[39;00m \u001b[38;5;21mcreate_label_image\u001b[39m( json_file_path, image_folder, image_label_folder, colors\u001b[38;5;241m=\u001b[39m\u001b[38;5;28;01mNone\u001b[39;00m, debug\u001b[38;5;241m=\u001b[39m\u001b[38;5;241m0\u001b[39m ) :\n\u001b[0;32m      4\u001b[0m     image_label_path \u001b[38;5;241m=\u001b[39m \u001b[38;5;28;01mNone\u001b[39;00m\n\u001b[1;32m----> 5\u001b[0m     \u001b[38;5;28;01mwith\u001b[39;00m \u001b[38;5;28;43mopen\u001b[39;49m\u001b[43m(\u001b[49m\u001b[43m \u001b[49m\u001b[43mjson_file_path\u001b[49m\u001b[43m,\u001b[49m\u001b[43m \u001b[49m\u001b[38;5;124;43m'\u001b[39;49m\u001b[38;5;124;43mr\u001b[39;49m\u001b[38;5;124;43m'\u001b[39;49m\u001b[43m)\u001b[49m \u001b[38;5;28;01mas\u001b[39;00m f:\n\u001b[0;32m      6\u001b[0m         json_data \u001b[38;5;241m=\u001b[39m json\u001b[38;5;241m.\u001b[39mload( f )\n\u001b[0;32m      8\u001b[0m         label_info \u001b[38;5;241m=\u001b[39m json_data[\u001b[38;5;124m'\u001b[39m\u001b[38;5;124mlabel_info\u001b[39m\u001b[38;5;124m'\u001b[39m]\n",
      "File \u001b[1;32mC:\\Program Files\\Python39\\lib\\_bootlocale.py:11\u001b[0m, in \u001b[0;36mgetpreferredencoding\u001b[1;34m(do_setlocale)\u001b[0m\n\u001b[0;32m      8\u001b[0m \u001b[38;5;28;01mimport\u001b[39;00m \u001b[38;5;21;01m_locale\u001b[39;00m\n\u001b[0;32m     10\u001b[0m \u001b[38;5;28;01mif\u001b[39;00m sys\u001b[38;5;241m.\u001b[39mplatform\u001b[38;5;241m.\u001b[39mstartswith(\u001b[38;5;124m\"\u001b[39m\u001b[38;5;124mwin\u001b[39m\u001b[38;5;124m\"\u001b[39m):\n\u001b[1;32m---> 11\u001b[0m     \u001b[38;5;28;01mdef\u001b[39;00m \u001b[38;5;21mgetpreferredencoding\u001b[39m(do_setlocale\u001b[38;5;241m=\u001b[39m\u001b[38;5;28;01mTrue\u001b[39;00m):\n\u001b[0;32m     12\u001b[0m         \u001b[38;5;28;01mif\u001b[39;00m sys\u001b[38;5;241m.\u001b[39mflags\u001b[38;5;241m.\u001b[39mutf8_mode:\n\u001b[0;32m     13\u001b[0m             \u001b[38;5;28;01mreturn\u001b[39;00m \u001b[38;5;124m'\u001b[39m\u001b[38;5;124mUTF-8\u001b[39m\u001b[38;5;124m'\u001b[39m\n",
      "\u001b[1;31mKeyboardInterrupt\u001b[0m: "
     ]
    }
   ],
   "source": [
    "import os, json, cv2, cv2 as cv\n",
    "from tqdm import tqdm, trange\n",
    "import matplotlib.pyplot as plt \n",
    "from PIL import Image\n",
    "from b201_create_label_image import *\n",
    "\n",
    "modes = [ \"Training\", \"Validation\" ]\n",
    "liveStocks = [ \"COW\", \"PIG\" ]\n",
    "image_path_label = None\n",
    "label_files = []\n",
    "for mode in modes : \n",
    "    for liveStock in liveStocks :\n",
    "        label_folder = f\"./ModelData/LiveStock/{mode}/[LABEL]{liveStock}_bbox/\"\n",
    "        image_folder = f\"./ModelData/LiveStock/{mode}/[IMAGE]{liveStock}_bbox/\"\n",
    "        image_label_folder = f\"./ModelData/LiveStock/{mode}/[IMAGE_LABEL]{liveStock}_bbox_label/\"\n",
    "\n",
    "        if not os.path.exists( image_label_folder ):\n",
    "            os.makedirs(image_label_folder)\n",
    "            print( f\"Folder crated. [{image_label_folder}]\" )\n",
    "        pass\n",
    "\n",
    "        from os import walk\n",
    "\n",
    "        for dirpath, dirs, files in walk( label_folder ): \n",
    "            for f in files : \n",
    "                label_files.append( dirpath + f ) \n",
    "            pass\n",
    "        pass\n",
    "    pass\n",
    "pass\n",
    "\n",
    "for json_file in tqdm( label_files ) :\n",
    "    image_path_label = create_label_image( json_file, image_folder, image_label_folder )\n",
    "pass\n",
    "\n",
    "w = 20 ; h = w\n",
    "plt.rcParams[\"figure.figsize\"] = (w, h)\n",
    "plt.imshow( Image.open( image_path_label ) ) \n",
    "plt.show()\n",
    "\n",
    "print( \"Done.\" )\n"
   ]
  }
 ],
 "metadata": {
  "interpreter": {
   "hash": "ac59ebe37160ed0dfa835113d9b8498d9f09ceb179beaac4002f036b9467c963"
  },
  "kernelspec": {
   "display_name": "Python 3.9.9 64-bit",
   "language": "python",
   "name": "python3"
  },
  "language_info": {
   "codemirror_mode": {
    "name": "ipython",
    "version": 3
   },
   "file_extension": ".py",
   "mimetype": "text/x-python",
   "name": "python",
   "nbconvert_exporter": "python",
   "pygments_lexer": "ipython3",
   "version": "3.9.9"
  },
  "orig_nbformat": 4
 },
 "nbformat": 4,
 "nbformat_minor": 2
}
