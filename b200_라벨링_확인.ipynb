{
 "cells": [
  {
   "cell_type": "code",
   "execution_count": 3,
   "metadata": {},
   "outputs": [
    {
     "name": "stderr",
     "output_type": "stream",
     "text": [
      "  6%|▌         | 728/12152 [01:57<30:42,  6.20it/s]  \n"
     ]
    },
    {
     "ename": "KeyboardInterrupt",
     "evalue": "",
     "output_type": "error",
     "traceback": [
      "\u001b[1;31m---------------------------------------------------------------------------\u001b[0m",
      "\u001b[1;31mKeyboardInterrupt\u001b[0m                         Traceback (most recent call last)",
      "Input \u001b[1;32mIn [3]\u001b[0m, in \u001b[0;36m<module>\u001b[1;34m\u001b[0m\n\u001b[0;32m     24\u001b[0m     \u001b[38;5;28;01mfor\u001b[39;00m f \u001b[38;5;129;01min\u001b[39;00m tqdm( files ) : \n\u001b[0;32m     25\u001b[0m         json_file \u001b[38;5;241m=\u001b[39m dirpath \u001b[38;5;241m+\u001b[39m f \n\u001b[1;32m---> 26\u001b[0m         image_path_label \u001b[38;5;241m=\u001b[39m \u001b[43mcreate_label_image\u001b[49m\u001b[43m(\u001b[49m\u001b[43m \u001b[49m\u001b[43mjson_file\u001b[49m\u001b[43m,\u001b[49m\u001b[43m \u001b[49m\u001b[43mimage_folder\u001b[49m\u001b[43m,\u001b[49m\u001b[43m \u001b[49m\u001b[43mimage_label_folder\u001b[49m\u001b[43m \u001b[49m\u001b[43m)\u001b[49m\n\u001b[0;32m     27\u001b[0m     \u001b[38;5;28;01mpass\u001b[39;00m\n\u001b[0;32m     28\u001b[0m \u001b[38;5;28;01mpass\u001b[39;00m\n",
      "File \u001b[1;32mc:\\Github\\YOLOv3\\b201_create_label_image.py:22\u001b[0m, in \u001b[0;36mcreate_label_image\u001b[1;34m(json_file_path, image_folder, image_label_folder, colors, debug)\u001b[0m\n\u001b[0;32m     19\u001b[0m debug \u001b[38;5;129;01mand\u001b[39;00m \u001b[38;5;28mprint\u001b[39m( \u001b[38;5;124mf\u001b[39m\u001b[38;5;124m\"\u001b[39m\u001b[38;5;124mimage_path = \u001b[39m\u001b[38;5;132;01m{\u001b[39;00mimage_path\u001b[38;5;132;01m}\u001b[39;00m\u001b[38;5;124m\"\u001b[39m )\n\u001b[0;32m     20\u001b[0m debug \u001b[38;5;129;01mand\u001b[39;00m \u001b[38;5;28mprint\u001b[39m( \u001b[38;5;124mf\u001b[39m\u001b[38;5;124m\"\u001b[39m\u001b[38;5;124mimage_label_path = \u001b[39m\u001b[38;5;132;01m{\u001b[39;00mimage_label_path\u001b[38;5;132;01m}\u001b[39;00m\u001b[38;5;124m\"\u001b[39m )\n\u001b[1;32m---> 22\u001b[0m image \u001b[38;5;241m=\u001b[39m \u001b[43mcv2\u001b[49m\u001b[38;5;241;43m.\u001b[39;49m\u001b[43mimread\u001b[49m\u001b[43m(\u001b[49m\u001b[43m \u001b[49m\u001b[43mimage_path\u001b[49m\u001b[43m \u001b[49m\u001b[43m)\u001b[49m \n\u001b[0;32m     24\u001b[0m \u001b[38;5;28;01mif\u001b[39;00m colors \u001b[38;5;129;01mis\u001b[39;00m \u001b[38;5;28;01mNone\u001b[39;00m :\n\u001b[0;32m     25\u001b[0m     colors \u001b[38;5;241m=\u001b[39m [ (\u001b[38;5;241m255\u001b[39m,\u001b[38;5;241m0\u001b[39m,\u001b[38;5;241m0\u001b[39m), (\u001b[38;5;241m0\u001b[39m, \u001b[38;5;241m255\u001b[39m, \u001b[38;5;241m0\u001b[39m), (\u001b[38;5;241m0\u001b[39m, \u001b[38;5;241m0\u001b[39m, \u001b[38;5;241m255\u001b[39m), (\u001b[38;5;241m0\u001b[39m, \u001b[38;5;241m255\u001b[39m, \u001b[38;5;241m255\u001b[39m), (\u001b[38;5;241m255\u001b[39m, \u001b[38;5;241m255\u001b[39m, \u001b[38;5;241m0\u001b[39m), (\u001b[38;5;241m255\u001b[39m, \u001b[38;5;241m0\u001b[39m, \u001b[38;5;241m255\u001b[39m) ]\n",
      "\u001b[1;31mKeyboardInterrupt\u001b[0m: "
     ]
    }
   ],
   "source": [
    "import os, json, cv2, cv2 as cv\n",
    "from tqdm import tqdm, trange\n",
    "from os import walk\n",
    "import matplotlib.pyplot as plt \n",
    "from PIL import Image\n",
    "from b201_create_label_image import *\n",
    "\n",
    "modes = [ \"Training\", \"Validation\" ]\n",
    "liveStocks = [ \"COW\", \"PIG\" ]\n",
    "image_path_label = None\n",
    "label_files = []\n",
    "for mode in modes[::-1] : \n",
    "    for liveStock in liveStocks :\n",
    "        label_folder = f\"./ModelData/LiveStock/{mode}/[LABEL]{liveStock}_bbox/\"\n",
    "        image_folder = f\"./ModelData/LiveStock/{mode}/[IMAGE]{liveStock}_bbox/\"\n",
    "        image_label_folder = f\"./ModelData/LiveStock/{mode}/[IMAGE_LABEL]{liveStock}_bbox_label/\"\n",
    "\n",
    "        if not os.path.exists( image_label_folder ):\n",
    "            os.makedirs(image_label_folder)\n",
    "            print( f\"Folder crated. [{image_label_folder}]\" )\n",
    "        pass\n",
    "\n",
    "        for dirpath, dirs, files in walk( label_folder ): \n",
    "            for f in tqdm( files ) : \n",
    "                json_file = dirpath + f \n",
    "                image_path_label = create_label_image( json_file, image_folder, image_label_folder )\n",
    "            pass\n",
    "        pass\n",
    "    pass\n",
    "pass\n",
    "\n",
    "w = 20 ; h = w\n",
    "plt.rcParams[\"figure.figsize\"] = (w, h)\n",
    "plt.imshow( Image.open( image_path_label ) ) \n",
    "plt.show()\n",
    "\n",
    "print( \"Done.\" )\n"
   ]
  }
 ],
 "metadata": {
  "interpreter": {
   "hash": "ac59ebe37160ed0dfa835113d9b8498d9f09ceb179beaac4002f036b9467c963"
  },
  "kernelspec": {
   "display_name": "Python 3.9.9 64-bit",
   "language": "python",
   "name": "python3"
  },
  "language_info": {
   "codemirror_mode": {
    "name": "ipython",
    "version": 3
   },
   "file_extension": ".py",
   "mimetype": "text/x-python",
   "name": "python",
   "nbconvert_exporter": "python",
   "pygments_lexer": "ipython3",
   "version": "3.9.9"
  },
  "orig_nbformat": 4
 },
 "nbformat": 4,
 "nbformat_minor": 2
}
