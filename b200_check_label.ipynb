{
 "cells": [
  {
   "cell_type": "code",
   "execution_count": 5,
   "metadata": {},
   "outputs": [
    {
     "name": "stdout",
     "output_type": "stream",
     "text": [
      "image_name = livestock_cow_bbox_000001.jpg\n",
      "box = [473, 536, 651, 678]\n",
      "box = [1584, 506, 1695, 677]\n",
      "box = [1693, 547, 1889, 795]\n",
      "box = [1000, 430, 1110, 554]\n"
     ]
    }
   ],
   "source": [
    "import json\n",
    "\n",
    "file_name = './ModelData/가축 행동 영상/Training/[라벨]소_bbox/livestock_cow_bbox_000001.json'\n",
    "json_data = json.load( open( file_name, 'r') )\n",
    "\n",
    "label_info = json_data['label_info']\n",
    "\n",
    "image_name = label_info['image']['file_name'] # 이미지 파일명\n",
    "image_width = label_info['image']['width'] # 이미지 넓이\n",
    "image_height = label_info['image']['height'] # 이미지 높이\n",
    "\n",
    "print( f\"image_name = {image_name}\")\n",
    "\n",
    "annotations =  label_info['annotations']\n",
    "for annot in annotations:\n",
    "    box = annot['bbox'] # 객체 1개의 bbox 위치 좌표\n",
    "\n",
    "    print( f\"box = {box}\" )\n",
    "pass "
   ]
  }
 ],
 "metadata": {
  "interpreter": {
   "hash": "ac59ebe37160ed0dfa835113d9b8498d9f09ceb179beaac4002f036b9467c963"
  },
  "kernelspec": {
   "display_name": "Python 3.9.9 64-bit",
   "language": "python",
   "name": "python3"
  },
  "language_info": {
   "codemirror_mode": {
    "name": "ipython",
    "version": 3
   },
   "file_extension": ".py",
   "mimetype": "text/x-python",
   "name": "python",
   "nbconvert_exporter": "python",
   "pygments_lexer": "ipython3",
   "version": "3.9.9"
  },
  "orig_nbformat": 4
 },
 "nbformat": 4,
 "nbformat_minor": 2
}
