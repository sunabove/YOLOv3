{
 "cells": [
  {
   "cell_type": "code",
   "execution_count": 1,
   "metadata": {},
   "outputs": [],
   "source": [
    "import os, cv2, numpy as np\n",
    "\n",
    "os.environ['CUDA_VISIBLE_DEVICES'] = '0'\n",
    "\n",
    "import tensorflow as tf\n",
    "from yolov3.utils import detect_image, detect_realtime, detect_video, Load_Yolo_model, detect_video_realtime_mp\n",
    "from yolov3.configs import *\n",
    "\n",
    "image_path   = \"./IMAGES/kite.jpg\"\n",
    "#video_path   = \"./IMAGES/test.mp4\"\n",
    "\n",
    "yolo = Load_Yolo_model()\n",
    "img = detect_image(yolo, image_path, \"./IMAGES/kite_pred.jpg\", input_size=YOLO_INPUT_SIZE, show=True, rectangle_colors=(255,0,0))\n",
    "\n",
    "import matplotlib.pyplot as plt\n",
    "plt.imshow( img )\n",
    "plt.show() \n",
    "\n",
    "print( \"Done\" )"
   ]
  }
 ],
 "metadata": {
  "interpreter": {
   "hash": "ac59ebe37160ed0dfa835113d9b8498d9f09ceb179beaac4002f036b9467c963"
  },
  "kernelspec": {
   "display_name": "Python 3.9.9 64-bit",
   "language": "python",
   "name": "python3"
  },
  "language_info": {
   "codemirror_mode": {
    "name": "ipython",
    "version": 3
   },
   "file_extension": ".py",
   "mimetype": "text/x-python",
   "name": "python",
   "nbconvert_exporter": "python",
   "pygments_lexer": "ipython3",
   "version": "3.9.9"
  },
  "orig_nbformat": 4
 },
 "nbformat": 4,
 "nbformat_minor": 2
}
