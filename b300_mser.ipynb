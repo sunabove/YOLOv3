{
 "cells": [
  {
   "cell_type": "code",
   "execution_count": 6,
   "metadata": {},
   "outputs": [
    {
     "ename": "AttributeError",
     "evalue": "'cv2.KeyPoint' object has no attribute 'reshape'",
     "output_type": "error",
     "traceback": [
      "\u001b[1;31m---------------------------------------------------------------------------\u001b[0m",
      "\u001b[1;31mAttributeError\u001b[0m                            Traceback (most recent call last)",
      "Input \u001b[1;32mIn [6]\u001b[0m, in \u001b[0;36m<module>\u001b[1;34m\u001b[0m\n\u001b[0;32m     17\u001b[0m regions \u001b[38;5;241m=\u001b[39m mser\u001b[38;5;241m.\u001b[39mdetect(gray, \u001b[38;5;28;01mNone\u001b[39;00m)\n\u001b[0;32m     19\u001b[0m mser_img \u001b[38;5;241m=\u001b[39m img\u001b[38;5;241m.\u001b[39mcopy()\n\u001b[1;32m---> 20\u001b[0m hulls \u001b[38;5;241m=\u001b[39m [cv2\u001b[38;5;241m.\u001b[39mconvexHull(p\u001b[38;5;241m.\u001b[39mreshape(\u001b[38;5;241m-\u001b[39m\u001b[38;5;241m1\u001b[39m, \u001b[38;5;241m1\u001b[39m, \u001b[38;5;241m2\u001b[39m)) \u001b[38;5;28;01mfor\u001b[39;00m p \u001b[38;5;129;01min\u001b[39;00m regions]\n\u001b[0;32m     21\u001b[0m cv2\u001b[38;5;241m.\u001b[39mpolylines(mser_img, hulls, \u001b[38;5;241m1\u001b[39m, (\u001b[38;5;241m0\u001b[39m, \u001b[38;5;241m255\u001b[39m, \u001b[38;5;241m0\u001b[39m))\n\u001b[0;32m     23\u001b[0m img_infos\u001b[38;5;241m.\u001b[39mappend( (img[:,:,::\u001b[38;5;241m-\u001b[39m\u001b[38;5;241m1\u001b[39m], \u001b[38;5;124m\"\u001b[39m\u001b[38;5;124morg\u001b[39m\u001b[38;5;124m\"\u001b[39m) )\n",
      "Input \u001b[1;32mIn [6]\u001b[0m, in \u001b[0;36m<listcomp>\u001b[1;34m(.0)\u001b[0m\n\u001b[0;32m     17\u001b[0m regions \u001b[38;5;241m=\u001b[39m mser\u001b[38;5;241m.\u001b[39mdetect(gray, \u001b[38;5;28;01mNone\u001b[39;00m)\n\u001b[0;32m     19\u001b[0m mser_img \u001b[38;5;241m=\u001b[39m img\u001b[38;5;241m.\u001b[39mcopy()\n\u001b[1;32m---> 20\u001b[0m hulls \u001b[38;5;241m=\u001b[39m [cv2\u001b[38;5;241m.\u001b[39mconvexHull(\u001b[43mp\u001b[49m\u001b[38;5;241;43m.\u001b[39;49m\u001b[43mreshape\u001b[49m(\u001b[38;5;241m-\u001b[39m\u001b[38;5;241m1\u001b[39m, \u001b[38;5;241m1\u001b[39m, \u001b[38;5;241m2\u001b[39m)) \u001b[38;5;28;01mfor\u001b[39;00m p \u001b[38;5;129;01min\u001b[39;00m regions]\n\u001b[0;32m     21\u001b[0m cv2\u001b[38;5;241m.\u001b[39mpolylines(mser_img, hulls, \u001b[38;5;241m1\u001b[39m, (\u001b[38;5;241m0\u001b[39m, \u001b[38;5;241m255\u001b[39m, \u001b[38;5;241m0\u001b[39m))\n\u001b[0;32m     23\u001b[0m img_infos\u001b[38;5;241m.\u001b[39mappend( (img[:,:,::\u001b[38;5;241m-\u001b[39m\u001b[38;5;241m1\u001b[39m], \u001b[38;5;124m\"\u001b[39m\u001b[38;5;124morg\u001b[39m\u001b[38;5;124m\"\u001b[39m) )\n",
      "\u001b[1;31mAttributeError\u001b[0m: 'cv2.KeyPoint' object has no attribute 'reshape'"
     ]
    }
   ],
   "source": [
    "import os, pathlib, json, cv2, cv2 as cv\n",
    "from tqdm import tqdm, trange\n",
    "from os import walk\n",
    "import matplotlib.pyplot as plt \n",
    "\n",
    "file = \"./ModelData/가축 행동 영상/Training/[원천]소_bbox/livestock_cow_bbox_000001.jpg\"\n",
    "\n",
    "img_infos = []\n",
    "\n",
    "# read original image\n",
    "img = cv2.imread( file )\n",
    "# convert to grayscale image\n",
    "gray = cv2.cvtColor(img, cv2.COLOR_BGR2GRAY)\n",
    "\n",
    "# MSER (Maximally Stable Extreme Regions) DEtection\n",
    "mser = cv2.MSER_create()\n",
    "regions = mser.detect(gray, None)\n",
    "\n",
    "mser_img = img.copy()\n",
    "hulls = [cv2.convexHull(p.reshape(-1, 1, 2)) for p in regions]\n",
    "cv2.polylines(mser_img, hulls, 1, (0, 255, 0))\n",
    "\n",
    "img_infos.append( (img[:,:,::-1], \"org\") )\n",
    "img_infos.append( (gray, \"grayscale\"))\n",
    "img_infos.append( (mser_img, \"MSER\"))\n",
    "\n",
    "col_cnt = 2 \n",
    "row_cnt = len( img_infos )//col_cnt; \n",
    "if row_cnt*col_cnt < len(img_infos ) :\n",
    "    row_cnt += 1\n",
    "pass\n",
    "\n",
    "w = 12 ; h = 8\n",
    "fig, charts = plt.subplots( row_cnt, col_cnt, figsize=(w*col_cnt, h*row_cnt) )\n",
    "charts = charts.ravel() if row_cnt*col_cnt > 1 else [ charts ]\n",
    "chart_idx = 0\n",
    "\n",
    "for img_info in img_infos : \n",
    "    chart = charts[ chart_idx ] ; chart_idx +=1 \n",
    "    \n",
    "    img = img_info[0]\n",
    "    title = img_info[1]\n",
    "    \n",
    "    chart.imshow( img, \"gray\" if len( img.shape ) < 3 else None )\n",
    "    chart.set_title( title )\n",
    "pass\n",
    "\n",
    "plt.show()"
   ]
  }
 ],
 "metadata": {
  "interpreter": {
   "hash": "ac59ebe37160ed0dfa835113d9b8498d9f09ceb179beaac4002f036b9467c963"
  },
  "kernelspec": {
   "display_name": "Python 3.9.9 64-bit",
   "language": "python",
   "name": "python3"
  },
  "language_info": {
   "codemirror_mode": {
    "name": "ipython",
    "version": 3
   },
   "file_extension": ".py",
   "mimetype": "text/x-python",
   "name": "python",
   "nbconvert_exporter": "python",
   "pygments_lexer": "ipython3",
   "version": "3.9.9"
  },
  "orig_nbformat": 4
 },
 "nbformat": 4,
 "nbformat_minor": 2
}
